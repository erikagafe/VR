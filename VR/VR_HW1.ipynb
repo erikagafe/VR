{
 "cells": [
  {
   "cell_type": "markdown",
   "metadata": {},
   "source": [
    "# Virtual Reality \n",
    "## HW1\n",
    "===========\n",
    "\n",
    "### Contributors\n",
    "* Erika\n",
    "* Michael "
   ]
  },
  {
   "cell_type": "markdown",
   "metadata": {},
   "source": [
    "####  Part 1 - Python Basics"
   ]
  },
  {
   "cell_type": "markdown",
   "metadata": {},
   "source": [
    "#### Exercise 1.1 and 1.4 "
   ]
  },
  {
   "cell_type": "code",
   "execution_count": 12,
   "metadata": {},
   "outputs": [],
   "source": [
    "import math\n",
    "\n",
    "class TMatrix:\n",
    " \n",
    "        Array = []\n",
    " \n",
    "        def __init__(self,a,b,c,d,e,f,g,h,i,j,k,l,m,n,o,p):\n",
    "                self.Array = [a,b,c,d,e,f,g,h,i,j,k,l,m,n,o,p]\n",
    " \n",
    "        def transpose(self):\n",
    "                transArray = []\n",
    " \n",
    "                transArray[0] = self.Array[0]\n",
    "                transArray[1] = self.Array[4]\n",
    "                transArray[2] = self.Array[8]\n",
    "                transArray[3] = self.Array[12]\n",
    "                transArray[4] = self.Array[1]\n",
    "                transArray[5] = self.Array[5]\n",
    "                transArray[6] = self.Array[9]\n",
    "                transArray[7] = self.Array[13]\n",
    "                transArray[8] = self.Array[2]\n",
    "                transArray[9] = self.Array[6]\n",
    "                transArray[10] = self.Array[10]\n",
    "                transArray[11] = self.Array[14]\n",
    "                transArray[12] = self.Array[3]\n",
    "                transArray[13] = self.Array[7]\n",
    "                transArray[14] = self.Array[11]\n",
    "                transArray[15] = self.Array[15]\n",
    " \n",
    "                self.Array = transArray\n",
    " \n",
    "        def mult(self, other_matrix):\n",
    "                returnArray = []\n",
    "                for x in range(0,4):\n",
    "                    for y in range(0,4):\n",
    "                        returnArray.append(0)\n",
    "                        for z in range(0,4):\n",
    "                            returnArray[x*4+y] = (returnArray[x*4+y] + (self.Array[x*4 + z] * other_matrix.Array[z*4 +y]))\n",
    "                self.Array = returnArray\n",
    "        \n",
    "        # Exercise 1.4 \n",
    "        ## Exteded the class TMatrix \n",
    "        def mult_vec(self, vector):\n",
    "            returnArray = []\n",
    "            for x in range(0,4):\n",
    "                returnArray.append(0)\n",
    "                for y in range (0,4):\n",
    "                    returnArray[x] = returnArray[x] + (self.Array[4*x + y] * vector.Array[x])\n",
    "            return Vector4(returnArray[0],returnArray[1],returnArray[2],returnArray[3])\n",
    "\n",
    "        def printMat(self):\n",
    "                print(\"|\"  +str(self.Array[0])+ \", \" +str(self.Array[1])+ \", \" +str(self.Array[2])+ \", \" +str(self.Array[3])+\"|\")\n",
    "                print(\"|\" +str(self.Array[4])+ \", \" +str(self.Array[5])+ \", \" +str(self.Array[6])+ \", \" +str(self.Array[7])+\"|\")\n",
    "                print(\"|\" +str(self.Array[8])+ \", \" +str(self.Array[9])+ \", \" +str(self.Array[10]) + \", \"+ str(self.Array[11])+\"|\")\n",
    "                print(\"|\" +str(self.Array[12])+ \", \" +str(self.Array[13])+ \", \" +str(self.Array[14])+ \", \" +str(self.Array[15])+\"|\")\n",
    "                print(\" \")"
   ]
  },
  {
   "cell_type": "code",
   "execution_count": 13,
   "metadata": {},
   "outputs": [
    {
     "name": "stdout",
     "output_type": "stream",
     "text": [
      "A:\n",
      "|1, 2, 3, 4|\n",
      "|5, 6, 7, 8|\n",
      "|9, 10, 11, 12|\n",
      "|13, 14, 15, 16|\n",
      " \n",
      "B:\n",
      "|1, 3, 5, 7|\n",
      "|9, 11, 13, 15|\n",
      "|2, 4, 6, 8|\n",
      "|10, 12, 14, 16|\n",
      " \n",
      "A*B:\n",
      "|65, 85, 105, 125|\n",
      "|153, 205, 257, 309|\n",
      "|241, 325, 409, 493|\n",
      "|329, 445, 561, 677|\n",
      " \n"
     ]
    }
   ],
   "source": [
    "# Test for Matrix multiplication \n",
    "def MatTest():\n",
    "    A = TMatrix(1,2,3,4,5,6,7,8,9,10,11,12,13,14,15,16)\n",
    "    print(\"A:\")\n",
    "    A.printMat()\n",
    "\n",
    "    B = TMatrix(1,3,5,7,9,11,13,15,2,4,6,8,10,12,14,16)\n",
    "    print(\"B:\")\n",
    "    B.printMat()\n",
    "\n",
    "    A.mult(B)\n",
    "    print(\"A*B:\")\n",
    "    A.printMat()\n",
    "MatTest()\n"
   ]
  },
  {
   "cell_type": "markdown",
   "metadata": {},
   "source": [
    "#### Exercise 1.2"
   ]
  },
  {
   "cell_type": "code",
   "execution_count": 14,
   "metadata": {
    "collapsed": true
   },
   "outputs": [],
   "source": [
    "# Translation Matrix\n",
    "def make_trans_mat(self,x,y,z):\n",
    "    a = [0,0,0,x,0,0,0,y,0,0,0,z,0,0,0,1]\n",
    "    self.Array = a\n",
    "\n",
    "# Rotation Matrix\n",
    "def make_rot_mat(self,phi, axis):\n",
    "    if(axis == \"x\"):\n",
    "        a = [1,0,0,0,math.cos(phi),-math.sin(phi),0,0,math.sin(phi),math.cos(phi),0,0,0,0,1]\n",
    "    if(axis == \"y\"):\n",
    "        a = [math.cos(phi),0,math.sin(phi),0, 0,1,0,0, -math.sin(phi),0,math.cos(phi),0, 0,0,0,1]\n",
    "    if(axis == \"z\"):\n",
    "        a = [math.cos(phi),-math.sin(phi),0,0 ,math.sin(phi),math.cos(phi),0,0, 0,0,1,0,0,0,0,1]\n",
    "    self.Array = a\n",
    "# Scale Matrix\n",
    "def make_scale_mat(self,x,y,z):\n",
    "    a(x,0,0,0, 0,y,0,0, 0,0,z,0, 0,0,0,1)\n",
    "    self.Array = a"
   ]
  },
  {
   "cell_type": "markdown",
   "metadata": {},
   "source": [
    "#### Exercise 1.3"
   ]
  },
  {
   "cell_type": "code",
   "execution_count": 15,
   "metadata": {
    "collapsed": true
   },
   "outputs": [],
   "source": [
    " class Vector4(object):\n",
    " \n",
    "        Array = []\n",
    " \n",
    "        def __init__(self, a,b,c,d):\n",
    "                self.Array = [a,b,c,d]\n",
    " \n",
    "        def euclidean_distance(self,point):\n",
    "                a = (self.Array[0] - point.Array[0])\n",
    "                b = (self.Array[1] - point.Array[1])\n",
    "                c = (self.Array[2] - point.Array[2])\n",
    "                d = (self.Array[3] - point.Array[3])\n",
    "                return math.sqrt((a**2) + (b**2) + (c**2) + (d**2))#not sure\n",
    "\n",
    "\n",
    "        def printVec(self):\n",
    "                print(\"|\" +str(self.Array[0])+ \"|\")\n",
    "                print(\"|\" +str(self.Array[1])+ \"|\")\n",
    "                print(\"|\" +str(self.Array[2])+ \"|\")\n",
    "                print(\"|\" +str(self.Array[3])+ \"|\")\n",
    "                print(\" \") \n",
    "\n"
   ]
  },
  {
   "cell_type": "code",
   "execution_count": 16,
   "metadata": {},
   "outputs": [
    {
     "name": "stdout",
     "output_type": "stream",
     "text": [
      "Vector A:\n",
      "|2|\n",
      "|4|\n",
      "|6|\n",
      "|2|\n",
      " \n",
      "Vector B:\n",
      "|0|\n",
      "|0|\n",
      "|0|\n",
      "|1|\n",
      " \n",
      "Distance A B:\n",
      "7.54983443527075\n"
     ]
    }
   ],
   "source": [
    "# Test for Euclidean distance\n",
    "def EcuTest():\n",
    "    vA = Vector4(2,4,6,2)\n",
    "    print(\"Vector A:\")\n",
    "    vA.printVec()  \n",
    "\n",
    "    vB = Vector4(0,0,0,1)\n",
    "    print(\"Vector B:\")\n",
    "    vB.printVec()\n",
    "    \n",
    "    print(\"Distance A B:\")\n",
    "    print(vB.euclidean_distance(vA))\n",
    "\n",
    "EcuTest()"
   ]
  },
  {
   "cell_type": "markdown",
   "metadata": {},
   "source": [
    "####  Part 2  - Scenegraphs"
   ]
  },
  {
   "cell_type": "markdown",
   "metadata": {},
   "source": [
    "#### Exercise 1.5\n",
    "\n",
    "Definition:\n",
    "TransformNodes --- It is where the new coordinate system is moved\n",
    "TriMeshNodes – Render the object\n",
    "\n",
    "What do they have in common?\n",
    "* Name\n",
    "* Parent\n",
    "* Children\n",
    "* Transform\n",
    "* World Transform\n",
    "\n",
    "What other types of scenography nodes do you know and what are their effects?\n",
    "* LightNode\n",
    "* CameraNode\n",
    "* ScreenNode\n"
   ]
  },
  {
   "cell_type": "markdown",
   "metadata": {},
   "source": [
    "#### Exercise 1.6\n",
    "\n",
    "Difference between Transform(T) and WorldTransform (WT)\n",
    "\n",
    "* WT are transformation happening in root nodes and intermediate nodes, if a WT happens in a Root node all its children will be affected and they will need to replicate the changes done in root node. \n",
    "\n",
    "* Transform or local Transform, happens on leaf and intermediate nodes and very specific to an element of the object. This transform doesn’t affect parent nodes.\n",
    "\n"
   ]
  },
  {
   "cell_type": "code",
   "execution_count": null,
   "metadata": {
    "collapsed": true
   },
   "outputs": [],
   "source": []
  }
 ],
 "metadata": {
  "kernelspec": {
   "display_name": "Python 3",
   "language": "python",
   "name": "python3"
  },
  "language_info": {
   "codemirror_mode": {
    "name": "ipython",
    "version": 3
   },
   "file_extension": ".py",
   "mimetype": "text/x-python",
   "name": "python",
   "nbconvert_exporter": "python",
   "pygments_lexer": "ipython3",
   "version": "3.6.2"
  }
 },
 "nbformat": 4,
 "nbformat_minor": 2
}
